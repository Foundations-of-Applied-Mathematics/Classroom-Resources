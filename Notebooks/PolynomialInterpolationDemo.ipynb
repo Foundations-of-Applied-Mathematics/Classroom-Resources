{
 "cells": [
  {
   "cell_type": "markdown",
   "metadata": {},
   "source": [
    "#Polynomial Interpolation"
   ]
  },
  {
   "cell_type": "code",
   "execution_count": 1,
   "metadata": {
    "collapsed": false
   },
   "outputs": [
    {
     "name": "stderr",
     "output_type": "stream",
     "text": [
      ":0: FutureWarning: IPython widgets are experimental and may change in the future.\n"
     ]
    }
   ],
   "source": [
    "%matplotlib inline\n",
    "import numpy as np\n",
    "from matplotlib import pyplot as plt\n",
    "from IPython.html.widgets import interact\n",
    "from IPython.html import widgets"
   ]
  },
  {
   "cell_type": "markdown",
   "metadata": {},
   "source": [
    "###Lagrange Interpolation"
   ]
  },
  {
   "cell_type": "markdown",
   "metadata": {},
   "source": [
    "Lagrange interpolation is one method of polynomial interpolation.\n",
    "It interpolates the points $(x_i,y_i)$ by writing a polynomial as a linear combination of basis functions, $L_j$, where\n",
    "\n",
    "$$ L_j(x_i) = \\begin{cases} 0 &\\mbox{ if } i \\neq j\\\\ 1 &\\mbox{ if } i =j \\\\ \\end{cases} $$\n",
    "\n",
    "Then the polynomial can be written\n",
    "$$\n",
    "p(x) = \\sum_{j=1}^n y_j L_j(x)\n",
    "$$\n",
    "\n",
    "This can be computed in $O(n^2)$."
   ]
  },
  {
   "cell_type": "code",
   "execution_count": 2,
   "metadata": {
    "collapsed": true
   },
   "outputs": [],
   "source": [
    "def Lj(ip_x, xpts):\n",
    "        \"\"\"\n",
    "        Builds an array of Lagrange basis functions\n",
    "        Parameters\n",
    "        ip_x - the interpolation points\n",
    "        xpts - points to evaluate the basis functions at \n",
    "\n",
    "        Returns\n",
    "        a 2D array of basis vectors as rows\n",
    "        \"\"\"\n",
    "        n = len(ip_x)\n",
    "        L =[]\n",
    "        for j in range(n):\n",
    "            a = 1\n",
    "            for k in range(n):\n",
    "                if j!=k:\n",
    "                    a *= (xpts-ip_x[k])/(ip_x[j]-ip_x[k])\n",
    "            L.append(a)\n",
    "        return np.vstack(L)"
   ]
  },
  {
   "cell_type": "code",
   "execution_count": 3,
   "metadata": {
    "collapsed": false,
    "scrolled": true
   },
   "outputs": [
    {
     "data": {
      "image/png": "[encoded data removed]",
      "text/plain": [
       "<matplotlib.figure.Figure at 0x6cb7630>"
      ]
     },
     "metadata": {},
     "output_type": "display_data"
    },
    {
     "data": {
      "text/plain": [
       "<function __main__.plot_basis>"
      ]
     },
     "execution_count": 3,
     "metadata": {},
     "output_type": "execute_result"
    }
   ],
   "source": [
    "def plot_basis(n):\n",
    "    '''\n",
    "    Plots the Lagrange interpolation basis functions for n evenly spaced points\n",
    "    '''\n",
    "    ip_x = np.linspace(-1,1,n)\n",
    "    xpts = np.linspace(-1,1,100)\n",
    "    Ljs = Lj(ip_x, xpts)\n",
    "    for i in xrange(n):\n",
    "        plt.plot(xpts,Ljs[i],label=\"$L_\" + str(i) + \"$\",linewidth=2.0)\n",
    "    plt.scatter(ip_x, np.ones(ip_x.shape))\n",
    "    plt.title(\"Basis Functions for n Points\")\n",
    "    plt.ylim(-3,3)\n",
    "    plt.xlim(-1.1,1.1)\n",
    "    plt.legend(loc=\"center left\", bbox_to_anchor=(1, 0.5))\n",
    "    plt.show()\n",
    "    \n",
    "interact(plot_basis, n=widgets.IntSliderWidget(min=2,max=6,step=1,value=2))"
   ]
  },
  {
   "cell_type": "markdown",
   "metadata": {},
   "source": [
    "### Choosing Interpolation Points"
   ]
  },
  {
   "cell_type": "markdown",
   "metadata": {},
   "source": [
    "Polynomial Interpolation with evenly spaced points is ill-conditioned.\n",
    "This is since a small error in a $y_i$ value near the middle of the interval of interpolation can cause large errors in the interpolant near the boundaries of the interval.\n",
    "Wilkinson's polynomial is a famous example of how using a high-order polynomial and evenly spaced interpolation points is an ill-conditioned problem.\n",
    "It is the polynomial with roots 1-20, or \n",
    "$$f(x) = \\prod_{i=1}^{20}(x-i)$$\n",
    "\n",
    "The code below plots polynomials with $n$ roots. So Wilkson's polynomial is when $n = 20$.\n",
    "Notice how as the number of interpolation points increase, the fluctuations near the endpoints increase. "
   ]
  },
  {
   "cell_type": "code",
   "execution_count": 4,
   "metadata": {
    "collapsed": false
   },
   "outputs": [
    {
     "data": {
      "image/png": "[encoded data removed]",
      "text/plain": [
       "<matplotlib.figure.Figure at 0x6cb7610>"
      ]
     },
     "metadata": {},
     "output_type": "display_data"
    },
    {
     "data": {
      "text/plain": [
       "<function __main__.plot_wilk_poly>"
      ]
     },
     "execution_count": 4,
     "metadata": {},
     "output_type": "execute_result"
    }
   ],
   "source": [
    "def plot_wilk_poly(n):\n",
    "    '''\n",
    "    Plots Wilkinson's polynomial with n roots\n",
    "    '''\n",
    "    num_pts = 10000\n",
    "    ip_x = np.arange(1, n+1)\n",
    "    xpts = np.linspace(1, n, num_pts)\n",
    "    y = np.ones(num_pts)\n",
    "    plt.plot(ip_x, np.zeros(n), 'bo')\n",
    "    for x in ip_x:\n",
    "        y *= x - xpts\n",
    "    plt.plot(xpts, y, linewidth=2.0)\n",
    "    plt.title(\"Wilkinson's Polynomial\")\n",
    "    plt.xlim(0, n+1)\n",
    "    plt.show()\n",
    "    \n",
    "interact(plot_wilk_poly, n=(2,20,1))"
   ]
  },
  {
   "cell_type": "markdown",
   "metadata": {},
   "source": [
    "One way to avoid this instability is to use Chebyshev nodes as the interpolation points.\n",
    "These nodes are the x-coordinates of points evenly spaced around the unit circle.\n",
    "This puts more points near the ends of the interval.\n",
    "The formula for the Chebyshev nodes is:\n",
    "$$\n",
    "\\cos\\left[\\frac{\\pi}{n}(k+\\frac{1}{2})\\right] \\text{ for }  k \\in \\mathbb{Z}, 0\\leq k \\lt n\n",
    "$$"
   ]
  },
  {
   "cell_type": "code",
   "execution_count": 5,
   "metadata": {
    "collapsed": false
   },
   "outputs": [],
   "source": [
    "def cheb_nodes(n):\n",
    "    \"\"\"Calculate ip_x\"\"\"\n",
    "    k = np.arange(0, n)\n",
    "    return np.cos(np.pi/n*(k+.5))"
   ]
  },
  {
   "cell_type": "code",
   "execution_count": 6,
   "metadata": {
    "collapsed": false
   },
   "outputs": [
    {
     "data": {
      "image/png": "[encoded data removed]",
      "text/plain": [
       "<matplotlib.figure.Figure at 0x6d156d0>"
      ]
     },
     "metadata": {},
     "output_type": "display_data"
    },
    {
     "data": {
      "text/plain": [
       "<function __main__.plot_cheb>"
      ]
     },
     "execution_count": 6,
     "metadata": {},
     "output_type": "execute_result"
    }
   ],
   "source": [
    "def plot_cheb(n):\n",
    "    # plot the unit circle\n",
    "    j = np.linspace(0, np.pi, 1000)\n",
    "    circ_x = np.cos(j)\n",
    "    circ_y = np.sin(j)\n",
    "    plt.plot(circ_x, circ_y, 'b', linewidth=2.0)\n",
    "    \n",
    "    # make n evenly spaced points on the circle\n",
    "    k = np.arange(0,n)\n",
    "    x = np.cos(np.pi/n*(k+.5))\n",
    "    y = np.sin(np.pi/n*(k+.5))\n",
    "    plt.plot(x, y, 'bo')\n",
    "    \n",
    "    # plot chebyshev nodes\n",
    "    plt.plot(x, np.zeros(n), 'go')\n",
    "\n",
    "    plt.axis('equal')\n",
    "    plt.title(\"n Chebyshev Nodes\")\n",
    "    plt.show()\n",
    "    \n",
    "interact(plot_cheb, n=widgets.IntSliderWidget(min=3,max=30,step=1,value=10))"
   ]
  },
  {
   "cell_type": "markdown",
   "metadata": {},
   "source": [
    "Consider interpolating Runge's function $\\left(f(x) = \\frac{1}{1+25x^2}\\right)$ using evenly spaced points and Chebyshev nodes.\n",
    "Even for a small number of evenly spaced interpolation points, the interpolant begins to diverge from the function at the edges of the interval.\n",
    "This is called Runge's phenomenon."
   ]
  },
  {
   "cell_type": "code",
   "execution_count": 7,
   "metadata": {
    "collapsed": false
   },
   "outputs": [
    {
     "data": {
      "image/png": "[encoded data removed]",
      "text/plain": [
       "<matplotlib.figure.Figure at 0x6fe6710>"
      ]
     },
     "metadata": {},
     "output_type": "display_data"
    },
    {
     "data": {
      "text/plain": [
       "<function __main__.plot_interpolate>"
      ]
     },
     "execution_count": 7,
     "metadata": {},
     "output_type": "execute_result"
    }
   ],
   "source": [
    "def runge(x):\n",
    "    return 1.0/(1+25.0*x**2)\n",
    "def interpolate(basis, ip_y):\n",
    "    '''\n",
    "    Calculates the interpolating polynomial using the basis functions returned \n",
    "    by L_j and the y-values for the interpolation points\n",
    "    '''\n",
    "    return np.sum((basis.T*ip_y), axis=1)\n",
    "def plot_interpolate(n):\n",
    "    '''\n",
    "    Plots interpolation of Runge's function with n evenly spaced points and n chebyshev points\n",
    "    '''\n",
    "    # evenly spaced interpolation points\n",
    "    ip_x = np.linspace(-1, 1, n)\n",
    "    ip_y = runge(ip_x)\n",
    "    xpts = np.linspace(-1, 1, 1000)\n",
    "    basis = Lj(ip_x, xpts)\n",
    "    y = interpolate(basis, ip_y)\n",
    "    \n",
    "    plt.subplot(121)\n",
    "    plt.title(\"Even points\")\n",
    "    plt.plot(xpts, y, 'b', linewidth=2.0)\n",
    "    plt.plot(xpts, runge(xpts), 'g', linewidth=2.0)\n",
    "    plt.ylim(-4, 8)\n",
    "    \n",
    "    # chebyshev interpolation points\n",
    "    ip_x = cheb_nodes(n)\n",
    "    ip_y = runge(ip_x)\n",
    "    xpts = np.linspace(-1,1,1000)\n",
    "    basis = Lj(ip_x, xpts)\n",
    "    y = interpolate(basis, ip_y)\n",
    "    \n",
    "    plt.subplot(122)\n",
    "    plt.title(\"Chebyshev nodes\")\n",
    "    plt.plot(xpts, y, 'b', label=\"Lagrange Interpolant\", linewidth=2.0)\n",
    "    plt.plot(xpts, runge(xpts), 'g', label=\"$\\\\frac{1}{1+25x^2}$\", linewidth=2.0)\n",
    "    plt.ylim(-4, 8)\n",
    "    plt.legend(loc=\"center left\", bbox_to_anchor=(1,0.5))\n",
    "    plt.show()\n",
    "interact(plot_interpolate, n=(10,20,1))"
   ]
  },
  {
   "cell_type": "markdown",
   "metadata": {},
   "source": [
    "###Barycentric Lagrange Interpolation"
   ]
  },
  {
   "cell_type": "markdown",
   "metadata": {
    "collapsed": false
   },
   "source": [
    "The polynomial interpolation for a certain number of points is unique, but we can change how we compute it.\n",
    "We can rewrite the Lagrange interpolant to only require $O(n)$ computations and to be numerically stable.\n",
    "The interpolant is written as:\n",
    "\n",
    "\n",
    "$$p(x) = \\frac{\\displaystyle\\sum_{k=1}^n \\frac{w_k y_k}{x-x_k}}{\\displaystyle\\sum_{k=1}^n \\frac{w_k}{x-x_k}} $$\n",
    "\n",
    "This allows us to interpolate a higher number of points.\n",
    "Compare Lagrange interpolation with Barycentric Lagrange interpolation.\n",
    "The interpolation polynomial is the same, but as the number of interpolation points increases, Lagrange interpolation becomes unstable.\n",
    "We can see this in the code below by where the interpolant diverges from the function and oscillates wildly."
   ]
  },
  {
   "cell_type": "code",
   "execution_count": 8,
   "metadata": {
    "collapsed": false
   },
   "outputs": [],
   "source": [
    "def bary_lagrange(ip_x, ip_y, interval, npoints=500):\n",
    "    \"\"\"Faster Lagrange calculator.\"\"\"\n",
    "    interval = np.linspace(interval[0], interval[1], float(npoints))\n",
    "\n",
    "    # calculate barycentric weights\n",
    "    c = (max(ip_x)-min(ip_x))/4.0\n",
    "    w = np.zeros_like(ip_x.T)\n",
    "    shuffle = np.random.permutation(len(ip_x)-1)\n",
    "    for k in range(len(ip_x)):\n",
    "        test = (ip_x[k]-ip_x)/c\n",
    "        test = np.delete(test, k)\n",
    "        test = test[shuffle]\n",
    "        w[k] = 1.0/np.prod(test)\n",
    "\n",
    "    # calculate p(x)\n",
    "    numer = np.sum([(w[k]*ip_y[k])/(interval-ip_x[k]) for k in range(len(ip_x))], axis=0)\n",
    "    denom = np.sum([w[k]/(interval-ip_x[k]) for k in range(len(ip_x))], axis=0)\n",
    "    return numer/denom"
   ]
  },
  {
   "cell_type": "code",
   "execution_count": 9,
   "metadata": {
    "collapsed": false
   },
   "outputs": [
    {
     "name": "stderr",
     "output_type": "stream",
     "text": [
      "C:\\Anaconda\\lib\\site-packages\\IPython\\kernel\\__main__.py:17: RuntimeWarning: overflow encountered in multiply\n"
     ]
    },
    {
     "data": {
      "image/png": "[encoded data removed]",
      "text/plain": [
       "<matplotlib.figure.Figure at 0x2fdaab0>"
      ]
     },
     "metadata": {},
     "output_type": "display_data"
    }
   ],
   "source": [
    "n = 700\n",
    "npoints = 1000\n",
    "xpts = np.linspace(-1,1,npoints)\n",
    "ypts = runge(xpts)\n",
    "\n",
    "ip_x = cheb_nodes(n)\n",
    "ip_y = runge(ip_x)\n",
    "\n",
    "# Lagrange interpolation\n",
    "basis = Lj(ip_x, xpts)\n",
    "y = interpolate(basis,runge(ip_x))\n",
    "\n",
    "plt.subplot(121)\n",
    "plt.title(\"Lagrange, n=700\")\n",
    "plt.plot(xpts, y, 'b', linewidth=2.0)\n",
    "plt.plot(xpts, ypts, 'g', linewidth=2.0)\n",
    "plt.ylim(-4,8)\n",
    "\n",
    "# Barycentric Lagrange interpolation\n",
    "y = bary_lagrange(ip_x, ip_y, (-1,1), npoints)\n",
    "\n",
    "plt.subplot(122)\n",
    "plt.title(\"Barycentric Lagrange, n=700\")\n",
    "plt.plot(xpts, y,'b', label =\"Interpolant\", linewidth=2.0)\n",
    "plt.plot(xpts, ypts, 'g', label='$\\\\frac{1}{1+25x^2}$', linewidth=2.0)\n",
    "plt.ylim(-4,8)\n",
    "plt.legend(loc=\"center left\", bbox_to_anchor=(1,0.5))\n",
    "\n",
    "plt.show()"
   ]
  },
  {
   "cell_type": "code",
   "execution_count": null,
   "metadata": {
    "collapsed": true
   },
   "outputs": [],
   "source": []
  }
 ],
 "metadata": {
  "kernelspec": {
   "display_name": "Python 2",
   "language": "python",
   "name": "python2"
  },
  "language_info": {
   "codemirror_mode": {
    "name": "ipython",
    "version": 2
   },
   "file_extension": ".py",
   "mimetype": "text/x-python",
   "name": "python",
   "nbconvert_exporter": "python",
   "pygments_lexer": "ipython2",
   "version": "2.7.5"
  }
 },
 "nbformat": 4,
 "nbformat_minor": 0
}
