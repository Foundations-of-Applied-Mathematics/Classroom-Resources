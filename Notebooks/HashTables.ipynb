{
 "cells": [
  {
   "cell_type": "markdown",
   "metadata": {},
   "source": [
    "#Hash Tables"
   ]
  },
  {
   "cell_type": "code",
   "execution_count": 1,
   "metadata": {
    "collapsed": false
   },
   "outputs": [
    {
     "name": "stderr",
     "output_type": "stream",
     "text": [
      "Vendor:  Continuum Analytics, Inc.\n",
      "Package: mkl\n",
      "Message: trial mode expires in 30 days\n",
      ":0: FutureWarning: IPython widgets are experimental and may change in the future.\n"
     ]
    }
   ],
   "source": [
    "%matplotlib inline\n",
    "import numpy as np\n",
    "import random\n",
    "import string\n",
    "from matplotlib import pyplot as plt\n",
    "from IPython.html.widgets import interact\n",
    "from IPython.html import widgets\n",
    "from collections import Counter"
   ]
  },
  {
   "cell_type": "markdown",
   "metadata": {},
   "source": [
    "A *hash table* is a very simple data structure that trades memory space for speed.\n",
    "Essentially, a hash table is an array or list where items are placed and accessed by a *hash function* rather than by sorting or by order of arrival.\n",
    "The key advantage of a hash table is speed; most of the operations of a hash table execute very efficiently, independent of its size.\n",
    "As such, hash tables have very fast lookup times; they form the underlying data structure for Python's set and dictionary types.\n",
    "\n",
    "The key to an effective hash table is the hash function.\n",
    "A hash function takes a piece of data as an input and outputs a natural number which corresponds to the index for that piece of data.\n",
    "Since the hash function must be executed to perform any operation on the hash table (e.g. insertion or lookup), it is imperative that the hash function execute quickly.\n",
    "\n",
    "\n",
    "The code below demonstrates the principle steps of inserting into a hash table.\n",
    "In the hash tables in this lab, we will use Python's built-in hash function."
   ]
  },
  {
   "cell_type": "code",
   "execution_count": 2,
   "metadata": {
    "collapsed": false
   },
   "outputs": [
    {
     "name": "stdout",
     "output_type": "stream",
     "text": [
      "4135046628013640463\n",
      "3\n",
      "[None, None, None, 'one', None]\n"
     ]
    }
   ],
   "source": [
    "# Make an empty table\n",
    "capacity = 5\n",
    "table = [None] * capacity\n",
    "\n",
    "# Find the hash of 'one'\n",
    "print hash('one')\n",
    "print hash('one') % capacity\n",
    "\n",
    "# Add 'one' to the table\n",
    "table[hash('one') % capacity] = 'one'\n",
    "print table"
   ]
  },
  {
   "cell_type": "code",
   "execution_count": 3,
   "metadata": {
    "collapsed": false
   },
   "outputs": [
    {
     "name": "stdout",
     "output_type": "stream",
     "text": [
      "['four', None, 'five', 'one', None]\n"
     ]
    }
   ],
   "source": [
    "# Add in more strings\n",
    "table[hash('four') % capacity] = 'four'\n",
    "table[hash('five') % capacity] = 'five'\n",
    "print table"
   ]
  },
  {
   "cell_type": "code",
   "execution_count": 4,
   "metadata": {
    "collapsed": false
   },
   "outputs": [
    {
     "name": "stdout",
     "output_type": "stream",
     "text": [
      "The slowest run took 11.17 times longer than the fastest. This could mean that an intermediate result is being cached \n",
      "10000000 loops, best of 3: 171 ns per loop\n",
      "10000000 loops, best of 3: 84.5 ns per loop\n"
     ]
    }
   ],
   "source": [
    "# We can locate 'five' quickly\n",
    "# Notice that is faster than the list's built-in methods\n",
    "%timeit table.index('five')\n",
    "\n",
    "%timeit table[hash('five') % capacity]\n",
    "\n"
   ]
  },
  {
   "cell_type": "markdown",
   "metadata": {},
   "source": [
    "###Hash Functions"
   ]
  },
  {
   "cell_type": "markdown",
   "metadata": {},
   "source": [
    "A good hash function will execute quickly and distribute items uniformly throughout the table.\n",
    "\n",
    "The simplest hash function is using the data itself, reinterpreting it as an integer, then modding by the table capacity.\n",
    "While simple, if the data is not uniformly distributed then the hashes will not be and more collisions will occur.\n",
    "For strings, it also causes similar strings like 'HRK19R' and 'RHK19R' to have the same hash.\n",
    "\n",
    "Below is an example of this simple hash function.\n",
    "The ord() function returns the value of the character in whatever encoding is being used, this could be ASCII, Unicode, or something else.\n",
    "Here we use it as a way to uniquely change letters to integers. Then we sum the value of each letter to find the hash for the whole string."
   ]
  },
  {
   "cell_type": "code",
   "execution_count": 5,
   "metadata": {
    "collapsed": false
   },
   "outputs": [
    {
     "name": "stdout",
     "output_type": "stream",
     "text": [
      "18\n",
      "18\n"
     ]
    }
   ],
   "source": [
    "def simple_hash(key, cap):\n",
    "    # a simple hash for strings with length 6\n",
    "    tot = 0\n",
    "    for letter in key:\n",
    "        tot += ord(letter)\n",
    "    return tot % cap\n",
    "        \n",
    "print simple_hash('HRK19R',19)\n",
    "print simple_hash('RHK19R',19)"
   ]
  },
  {
   "cell_type": "markdown",
   "metadata": {},
   "source": [
    "For strings, a better hash function is shown below.\n",
    "Multiplying by different large prime numbers in each position prevents similar strings from being hashed to the same value."
   ]
  },
  {
   "cell_type": "code",
   "execution_count": 6,
   "metadata": {
    "collapsed": false
   },
   "outputs": [
    {
     "name": "stdout",
     "output_type": "stream",
     "text": [
      "8\n",
      "12\n"
     ]
    }
   ],
   "source": [
    "def string_hash(key, cap):\n",
    "    # A hash function for strings with length 6\n",
    "    h = (ord(key[0]) +\n",
    "         31 * ord(key[1]) + \n",
    "         137 * ord(key[2]) + \n",
    "         1571 * ord(key[3]) + \n",
    "         11047 * ord(key[4]) + \n",
    "         77813 * ord(key[5]))\n",
    "    return h % cap\n",
    "\n",
    "print string_hash('HRK19R',19)\n",
    "print string_hash('RHK19R',19)"
   ]
  },
  {
   "cell_type": "markdown",
   "metadata": {},
   "source": [
    "Let's see how well our hash function works using the code below.\n",
    "Do two strings hash to the same integer?\n",
    "This is a *hash collision*.\n",
    "A hash collision is when two unique inputs are mapped to the same index in the hash table.\n",
    "If not properly handeled, a hash collision can cause us to overwrite older data or not be able to store new data."
   ]
  },
  {
   "cell_type": "code",
   "execution_count": 7,
   "metadata": {
    "collapsed": false
   },
   "outputs": [
    {
     "name": "stdout",
     "output_type": "stream",
     "text": [
      "key\thash\n",
      "UVZYYP \t3\n",
      "Q4NKW7 \t8\n",
      "EVY3UG \t7\n",
      "JAL2FG \t4\n",
      "H4II5N \t3\n"
     ]
    }
   ],
   "source": [
    "# a function to generate random strings\n",
    "def gen(size=6,chars=string.ascii_uppercase + string.digits):\n",
    "    return ''.join(random.choice(chars) for _ in range(size))\n",
    "\n",
    "print 'key\\thash'\n",
    "for i in xrange(5):\n",
    "    key = gen()\n",
    "    h = string_hash(key,10)\n",
    "    print key, '\\t', h"
   ]
  },
  {
   "cell_type": "markdown",
   "metadata": {},
   "source": [
    "The ideal hash function maps unique inputs to unique outputs that are uniformly distributed over the hash space.\n",
    "However, it is extremely difficult to create an ideal hash function; most hash functions will experience hash collisions.\n",
    "Using the code below, explore the relationship between hash collisions and the table capacity.\n",
    "What do you see?"
   ]
  },
  {
   "cell_type": "code",
   "execution_count": 8,
   "metadata": {
    "collapsed": false
   },
   "outputs": [
    {
     "data": {
      "image/png": "[encoded data removed]",
      "text/plain": [
       "<matplotlib.figure.Figure at 0x7ff0cbe3ed50>"
      ]
     },
     "metadata": {},
     "output_type": "display_data"
    }
   ],
   "source": [
    "def plot_collisions(num_words,capacity):\n",
    "    words = []\n",
    "    hashes = []\n",
    "    for i in xrange(num_words):\n",
    "        words.append(gen())\n",
    "        hashes.append(hash(words[i]) % capacity)\n",
    "    \n",
    "    c = Counter(hashes)\n",
    "    collisions = np.array(c.values())-1\n",
    "    plt.hist(collisions)\n",
    "    plt.ylabel('Number of Instances')\n",
    "    plt.xlabel('Number of Collisions')\n",
    "\n",
    "    \n",
    "\n",
    "interact(plot_collisions, \n",
    "         num_words=widgets.IntSliderWidget(min=500,max=2000,step=500,value=500),\n",
    "         capacity=widgets.IntSliderWidget(min=1000,max=4000,step=500,value=1000))"
   ]
  },
  {
   "cell_type": "markdown",
   "metadata": {},
   "source": [
    "Hash collisions are rare, but become more frequent when our table reaches full capacity.\n",
    "Thus, whenever our table fills up, we must resize our table to prevent numerous hash collisions."
   ]
  },
  {
   "cell_type": "markdown",
   "metadata": {},
   "source": [
    "###Resizing\n",
    "To resize a hash table, we initialize an array with a larger capacity and then move all the data into it.\n",
    "This includes rehashing every piece of data.\n",
    "Choosing a maximum load factor and how big to make the new hash table determines how often we need to resize and depends on the method for resolving collisions.\n",
    "Typically, we should rehash after our load factor reaches 80% and create a new hash table at least double the size."
   ]
  },
  {
   "cell_type": "code",
   "execution_count": 9,
   "metadata": {
    "collapsed": false
   },
   "outputs": [
    {
     "name": "stdout",
     "output_type": "stream",
     "text": [
      "['four', 'six', 'five', 'one', None]\n",
      "[None, 'six', 'five', None, None, 'one', 'four']\n"
     ]
    }
   ],
   "source": [
    "capacity = 5\n",
    "table = [None] * capacity\n",
    "table[hash('one') % capacity] = 'one'\n",
    "table[hash('four') % capacity] = 'four'\n",
    "table[hash('five') % capacity] = 'five'\n",
    "table[hash('six') % capacity] = 'six'\n",
    "# Note that our load factor is 4/5.\n",
    "print table\n",
    "\n",
    "# When our load factor passes a certain threshold, we need to make the hash table bigger\n",
    "# Resizing the hash table means rehashing everything in it\n",
    "def resize(table, new_cap):\n",
    "    new_table = [None] * new_cap\n",
    "    for i in table:\n",
    "        new_table[hash(i) % new_cap] = i\n",
    "    return new_table\n",
    "big_table = resize(table, 7)\n",
    "print big_table\n"
   ]
  },
  {
   "cell_type": "markdown",
   "metadata": {},
   "source": [
    "###Dealing with Collisions\n",
    "Even though hash collisions are rare, we need a way to deal with them so that when they do happen, we don't lose any data.\n",
    "####Probing\n",
    "In the first method, we resolve collisions by looking for the next available index.\n",
    "A short example is below."
   ]
  },
  {
   "cell_type": "code",
   "execution_count": 16,
   "metadata": {
    "collapsed": false
   },
   "outputs": [
    {
     "name": "stdout",
     "output_type": "stream",
     "text": [
      "[None, 'six', None, None, None]\n",
      "[None, 'three', None, None, None]\n"
     ]
    }
   ],
   "source": [
    "capacity = 5\n",
    "table = [None] * capacity\n",
    "# Now we add the words 'one' and 'three'\n",
    "# Notice what happens when we add 'three'\n",
    "table[hash('six') % capacity] = 'six'\n",
    "print table\n",
    "table[hash('three') % capacity] = 'three'\n",
    "print table"
   ]
  },
  {
   "cell_type": "code",
   "execution_count": 17,
   "metadata": {
    "collapsed": false
   },
   "outputs": [
    {
     "name": "stdout",
     "output_type": "stream",
     "text": [
      "three\n"
     ]
    }
   ],
   "source": [
    "# We lost the string 'six'\n",
    "# When we try to retrieve it, we get the string 'three' instead.\n",
    "print table[hash('six') % capacity]"
   ]
  },
  {
   "cell_type": "code",
   "execution_count": 18,
   "metadata": {
    "collapsed": false
   },
   "outputs": [
    {
     "name": "stdout",
     "output_type": "stream",
     "text": [
      "[None, 'six', None, None, None]\n",
      "[None, 'six', 'three', None, None]\n"
     ]
    }
   ],
   "source": [
    "# Start with a new table for this example\n",
    "capacity = 5\n",
    "table = [None] * capacity\n",
    "table[hash('six') % capacity] = 'six'\n",
    "print table\n",
    "\n",
    "# We can resolve the collision by looking for the next available index\n",
    "# Starting at index 1, we look at index 1+1 % capacity, 1+2 % capacity,\n",
    "    #1+3 % capacity, ..., until we find an empty index\n",
    "# Seeing that index 2 is None, we store 'three' there\n",
    "table[2] = 'three'\n",
    "print table"
   ]
  },
  {
   "cell_type": "markdown",
   "metadata": {},
   "source": [
    "Now when we are searching for 'three', we hash and find 'six' so we loop through until we find 'three'."
   ]
  },
  {
   "cell_type": "markdown",
   "metadata": {},
   "source": [
    "####Chaining\n",
    "Another method for resolving hash collisions is chaining.\n",
    "This method slightly alters the structure of our hash table, so that at each index, a list is stored.\n",
    "When an item is mapped to an index, it is appeneded to the list at that index."
   ]
  },
  {
   "cell_type": "code",
   "execution_count": 19,
   "metadata": {
    "collapsed": false
   },
   "outputs": [
    {
     "name": "stdout",
     "output_type": "stream",
     "text": [
      "[[], ['six'], [], [], []]\n",
      "[[], ['six', 'three'], [], [], []]\n"
     ]
    }
   ],
   "source": [
    "capacity = 5\n",
    "table = [list() for i in xrange(capacity)]\n",
    "\n",
    "# Now we add the words 'six' and 'three'\n",
    "# Notice what happens when we add 'three'\n",
    "table[hash('six') % capacity].append('six')\n",
    "print table\n",
    "\n",
    "table[hash('three') % capacity].append('three')\n",
    "print table\n"
   ]
  },
  {
   "cell_type": "markdown",
   "metadata": {},
   "source": [
    "For both methods, if the table starts to reach capacity we will be accessing items in linear time rather than constant time, because we have to loop through the table. This completely defeats the purpose of a hash table. For this reason we resize hash tables to keep them sparsely filled. "
   ]
  },
  {
   "cell_type": "markdown",
   "metadata": {
    "collapsed": true
   },
   "source": [
    "####Example\n",
    "We define our HashTable class by allocating space within a one-dimensional array (in this case, a Python list) using the array size as an argument. This hash table class resolves collisions with probing and resizes when over 80% full."
   ]
  },
  {
   "cell_type": "code",
   "execution_count": 20,
   "metadata": {
    "collapsed": true
   },
   "outputs": [],
   "source": [
    "class HashTable_Probe(object):\n",
    "    \"\"\"A Hash Table object. Uses probing (linear) to resolve hash collisions.\n",
    "    Attributes:\n",
    "        capacity (int): the maximum number of items in the table.\n",
    "        size (int): the number of items currently in the hash table.\n",
    "        table (list): the actual hash table. Each element is a list.\n",
    "    Notes:\n",
    "        If the load factor exceeds 0.8, the table's capacity is reset so that\n",
    "            the load factor drops below 0.2.\n",
    "    \"\"\"\n",
    "    def __init__(self,capacity=4):\n",
    "        if capacity <= 0: capacity = 1          # No empty tables allowed\n",
    "        self.table = [None] * capacity          # Initialize list\n",
    "        self.capacity = capacity\n",
    "        self._size = 0\n",
    "    \n",
    "    def load_factor(self):\n",
    "        \"\"\"Return the percent of the hash table that is occupied.\"\"\"\n",
    "        return float(self._size)/self.capacity  # Use float division!\n",
    "    \n",
    "    def _resize(self,new_capacity):\n",
    "        \"\"\"Expand table size and rehash all table elements.\"\"\"\n",
    "        data = []\n",
    "        for i in self.table:\n",
    "            if i: data.append(i)                # Get all nonempty entries\n",
    "        self.table = [None] * new_capacity      # New blank table\n",
    "        self.size = 0                           # Reset the size\n",
    "        self.capacity = new_capacity            # Reset the capacity\n",
    "        for i in data:                          # For each nonempy entry,\n",
    "            self.insert(i)                      # Rehash / reinsert\n",
    "\n",
    "    \n",
    "    def insert(self,data):\n",
    "        \"\"\"Add a single element to the hash table. Use probing for collisions.\"\"\"\n",
    "        index = hash(data) % self.capacity\n",
    "        while self.table[index]:                # If the list is nonempty at the index,\n",
    "            if index == self.capacity - 1:           # increment the index until an empty\n",
    "                index = 0                           # location is found.\n",
    "            else: index += 1\n",
    "        self.table[index] = data                # Add data\n",
    "        self._size += 1                         # Adjust size\n",
    "        if self.load_factor() > .8 or self._size >= self.capacity:\n",
    "            self._resize(self.capacity * 4)     # Resize if needed\n",
    "    \n",
    "    def __repr__(self):\n",
    "        \"\"\"String representation: table contents and load factor.\"\"\"\n",
    "        out = str(self.table)\n",
    "        out += \"\\nLoad Factor: \" + str(self.load_factor())\n",
    "        return out"
   ]
  }
 ],
 "metadata": {
  "kernelspec": {
   "display_name": "Python 2",
   "language": "python",
   "name": "python2"
  },
  "language_info": {
   "codemirror_mode": {
    "name": "ipython",
    "version": 2
   },
   "file_extension": ".py",
   "mimetype": "text/x-python",
   "name": "python",
   "nbconvert_exporter": "python",
   "pygments_lexer": "ipython2",
   "version": "2.7.9"
  }
 },
 "nbformat": 4,
 "nbformat_minor": 0
}
